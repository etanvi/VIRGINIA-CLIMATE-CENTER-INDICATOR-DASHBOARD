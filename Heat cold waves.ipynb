{
 "cells": [
  {
   "cell_type": "code",
   "execution_count": 12,
   "id": "4a8a5b0c",
   "metadata": {},
   "outputs": [
    {
     "name": "stdout",
     "output_type": "stream",
     "text": [
      "   stationId           county        date  PRCP   TAVG   TMAX  TMIN  year  \\\n",
      "0      44001  Accomack County  1951-01-01   0.0   2.17   6.04 -1.71  1951   \n",
      "1      44001  Accomack County  1951-01-02   0.0   0.59   4.75 -3.58  1951   \n",
      "2      44001  Accomack County  1951-01-03   0.0   5.19  11.64 -1.25  1951   \n",
      "3      44001  Accomack County  1951-01-04   0.0  11.00  17.70  4.30  1951   \n",
      "4      44001  Accomack County  1951-01-05   0.0   8.36  15.38  1.33  1951   \n",
      "\n",
      "   month  day  is_hot  is_cold  hot_streak_id_x  cold_streak_id_x  \\\n",
      "0      1    1   False    False                1                 1   \n",
      "1      1    2   False    False                1                 1   \n",
      "2      1    3   False    False                1                 1   \n",
      "3      1    4   False    False                1                 1   \n",
      "4      1    5   False    False                1                 1   \n",
      "\n",
      "   hot_streak_id_y  cold_streak_id_y  is_heatwave  is_coldwave  \n",
      "0              NaN               NaN        False        False  \n",
      "1              NaN               NaN        False        False  \n",
      "2              NaN               NaN        False        False  \n",
      "3              NaN               NaN        False        False  \n",
      "4              NaN               NaN        False        False  \n"
     ]
    }
   ],
   "source": [
    "import pandas as pd\n",
    "\n",
    "\n",
    "data = pd.read_csv('/Users/saideepak/Desktop/Daen 690/untitled folder/cleaned_data.csv')\n",
    "\n",
    "data_sorted = data.sort_values(by=['stationId', 'date'])\n",
    "data_sorted['is_hot'] = data_sorted['TMAX'] > 33\n",
    "data_sorted['is_cold'] = data_sorted['TMIN'] < -10\n",
    "\n",
    "data_sorted['hot_streak_id'] = (data_sorted['is_hot'] != data_sorted['is_hot'].shift(1)).cumsum()\n",
    "data_sorted['cold_streak_id'] = (data_sorted['is_cold'] != data_sorted['is_cold'].shift(1)).cumsum()\n",
    "\n",
    "heatwave_streaks = data_sorted[data_sorted['is_hot']].groupby('hot_streak_id').filter(lambda x: len(x) >= 2)\n",
    "coldwave_streaks = data_sorted[data_sorted['is_cold']].groupby('cold_streak_id').filter(lambda x: len(x) >= 2)\n",
    "all_heatwave_days = data_sorted[data_sorted['hot_streak_id'].isin(heatwave_streaks['hot_streak_id'])]\n",
    "all_coldwave_days = data_sorted[data_sorted['cold_streak_id'].isin(coldwave_streaks['cold_streak_id'])]\n",
    "\n",
    "\n",
    "data_sorted = data_sorted.merge(all_heatwave_days[['date', 'stationId', 'hot_streak_id']], \n",
    "                                on=['date', 'stationId'], \n",
    "                                how='left', \n",
    "                                indicator='is_in_heatwave')\n",
    "\n",
    "data_sorted = data_sorted.merge(all_coldwave_days[['date', 'stationId', 'cold_streak_id']], \n",
    "                                on=['date', 'stationId'], \n",
    "                                how='left', \n",
    "                                indicator='is_in_coldwave')\n",
    "\n",
    "\n",
    "data_sorted['is_heatwave'] = data_sorted['is_in_heatwave'] == 'both'\n",
    "data_sorted['is_coldwave'] = data_sorted['is_in_coldwave'] == 'both'\n",
    "\n",
    "\n",
    "data_sorted.drop(['hot_streak_id', 'cold_streak_id', 'is_in_heatwave', 'is_in_coldwave'], axis=1, inplace=True, errors='ignore')\n",
    "\n",
    "\n",
    "print(data_sorted.head())\n",
    "\n"
   ]
  },
  {
   "cell_type": "code",
   "execution_count": 13,
   "id": "39fc8061",
   "metadata": {},
   "outputs": [
    {
     "name": "stdout",
     "output_type": "stream",
     "text": [
      "The 5th percentile of TMIN is -7.4\n"
     ]
    }
   ],
   "source": [
    "\n",
    "# Calculate the 5th percentile of the TMIN column\n",
    "tmin_5th_percentile = data['TMIN'].quantile(0.05)\n",
    "\n",
    "print(f\"The 5th percentile of TMIN is {tmin_5th_percentile}\")\n"
   ]
  },
  {
   "cell_type": "code",
   "execution_count": 11,
   "id": "79f43d60",
   "metadata": {},
   "outputs": [
    {
     "name": "stdout",
     "output_type": "stream",
     "text": [
      "The 95th percentile of TMAX is 32.39\n"
     ]
    }
   ],
   "source": [
    "\n",
    "# Calculate the 5th percentile of the TMIN column\n",
    "tmax_95th_percentile = data['TMAX'].quantile(0.95)\n",
    "\n",
    "print(f\"The 95th percentile of TMAX is {tmax_95th_percentile}\")"
   ]
  },
  {
   "cell_type": "code",
   "execution_count": 14,
   "id": "542eda60",
   "metadata": {},
   "outputs": [],
   "source": [
    "# Save the DataFrame to a new CSV file for use in Tableau\n",
    "data_sorted.to_csv('/Users/saideepak/Desktop/Daen 690/untitled folder.csv', index=False)"
   ]
  },
  {
   "cell_type": "code",
   "execution_count": null,
   "id": "412a7c32",
   "metadata": {},
   "outputs": [],
   "source": []
  }
 ],
 "metadata": {
  "kernelspec": {
   "display_name": "Python 3 (ipykernel)",
   "language": "python",
   "name": "python3"
  },
  "language_info": {
   "codemirror_mode": {
    "name": "ipython",
    "version": 3
   },
   "file_extension": ".py",
   "mimetype": "text/x-python",
   "name": "python",
   "nbconvert_exporter": "python",
   "pygments_lexer": "ipython3",
   "version": "3.9.7"
  }
 },
 "nbformat": 4,
 "nbformat_minor": 5
}
